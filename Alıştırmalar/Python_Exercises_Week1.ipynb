{
 "cells": [
  {
   "cell_type": "markdown",
   "id": "a9d87e4f-9677-4a8d-b2a7-277081d45314",
   "metadata": {},
   "source": [
    "## Pyhton Alıştırmaları"
   ]
  },
  {
   "cell_type": "markdown",
   "id": "09e8bd1f-7fbd-4b0d-9251-68ba8d432332",
   "metadata": {},
   "source": [
    "Verilen string ifadenin tüm harflerini büyük harfe çeviriniz. Virgül ve nokta yerine space koyunuz, \r\n",
    "kelime kelime ayırınız"
   ]
  },
  {
   "cell_type": "code",
   "execution_count": 3,
   "id": "d9e9ddaa-fc86-459c-93ae-6205f4c34355",
   "metadata": {},
   "outputs": [
    {
     "name": "stdout",
     "output_type": "stream",
     "text": [
      "['THE', 'GOAL', 'IS', 'THE', 'TURN', 'DATA', 'INTO', 'INFORMATION,', 'AND', 'INFORMATION', 'INTO', 'INSIGHT']\n"
     ]
    }
   ],
   "source": [
    "text = \"The goal is the turn data into information, and information into insight\"\n",
    "\n",
    "new_list = [word.upper() for word in text.split() if word != \",\" or word != \".\"]\n",
    "print(new_list)"
   ]
  },
  {
   "cell_type": "raw",
   "id": "8d750f1e-9ee5-4718-9bc9-4d0bfd5d933a",
   "metadata": {},
   "source": [
    "Verilen listeye aşağıdaki adımları uygulayınız.\r\n",
    "Adım 1: Verilen listenin eleman sayısına bakınız.\r\n",
    "Adım 2: Sıfırıncı ve onuncu indeksteki elemanları çağırınız.\r\n",
    "Adım 3: Verilen liste üzerinden [\"D\", \"A\", \"T\", \"A\"] listesi oluşturunuz.\r\n",
    "Adım 4: Sekizinci indeksteki elemanı siliniz.\r\n",
    "Adım 5: Yeni bir eleman ekleyiniz.\r\n",
    "Adım 6: Sekizinci indekse \"N\" elemanını tekrar ekliniz.\r\n"
   ]
  },
  {
   "cell_type": "code",
   "execution_count": 4,
   "id": "e715c00d-49fe-4bdb-8266-e2e3e1e8a86f",
   "metadata": {},
   "outputs": [
    {
     "name": "stdout",
     "output_type": "stream",
     "text": [
      "11\n",
      "D - E\n",
      "['D', 'A', 'T', 'A']\n",
      "['D', 'A', 'T', 'A', 'S', 'C', 'I', 'E', 'C', 'E']\n",
      "['D', 'A', 'T', 'A', 'S', 'C', 'I', 'E', 'C', 'E', 'X']\n",
      "['D', 'A', 'T', 'A', 'S', 'C', 'I', 'E', 'N', 'C', 'E', 'X']\n"
     ]
    }
   ],
   "source": [
    "lst = [\"D\",\"A\",\"T\",\"A\",\"S\",\"C\",\"I\",\"E\",\"N\",\"C\",\"E\"]\n",
    "print(len(lst))\n",
    "print(lst[0] + \" - \" + lst[10])\n",
    "print(lst[0:4])\n",
    "\n",
    "lst.pop(8)\n",
    "print(lst)\n",
    "\n",
    "lst.append(\"X\")\n",
    "print(lst)\n",
    "\n",
    "lst.insert(8,\"N\")\n",
    "print(lst)"
   ]
  },
  {
   "cell_type": "raw",
   "id": "b1255775-f5f6-42ad-9b38-68adb59b5688",
   "metadata": {},
   "source": [
    "Verilen sözlük yapısına aşağıdaki adımları uygulayınız.\n",
    "Adım 1: Key değerlerine erişiniz.\n",
    "Adım 2: Value'lara erişiniz.\n",
    "Adım 3: Daisy key'ine ait 12 değerini 13 olarak güncelleyiniz.\n",
    "Adım 4: Key değeri Ahmet value değeri [Turkey,24] olan yeni bir değer ekleyiniz.\n",
    "Adım 5: Antonio'yu dictionary'den siliniz."
   ]
  },
  {
   "cell_type": "code",
   "execution_count": 5,
   "id": "5d922e2c-a999-45a7-8956-71133b0c26d4",
   "metadata": {},
   "outputs": [
    {
     "name": "stdout",
     "output_type": "stream",
     "text": [
      "dict_keys(['Christian', 'Daisy', 'Antonio', 'Dante'])\n",
      "dict_values([['America', 18], ['England', 12], ['Spain', 22], ['Italy', 25]])\n",
      "dict_items([('Christian', ['America', 18]), ('Daisy', ['England', 13]), ('Antonio', ['Spain', 22]), ('Dante', ['Italy', 25])])\n",
      "dict_items([('Christian', ['America', 18]), ('Daisy', ['England', 13]), ('Antonio', ['Spain', 22]), ('Dante', ['Italy', 25]), ('Ahmet', ['Turkey', 34])])\n",
      "dict_items([('Christian', ['America', 18]), ('Daisy', ['England', 13]), ('Dante', ['Italy', 25]), ('Ahmet', ['Turkey', 34])])\n"
     ]
    }
   ],
   "source": [
    "dict = {\"Christian\" : [\"America\", 18],\n",
    "       \"Daisy\" : [\"England\", 12],\n",
    "       \"Antonio\" : [\"Spain\", 22],\n",
    "       \"Dante\" : [\"Italy\", 25]}\n",
    "\n",
    "print(dict.keys())\n",
    "print(dict.values())\n",
    "\n",
    "dict[\"Daisy\"][1] = 13\n",
    "print(dict.items())\n",
    "\n",
    "dict[\"Ahmet\"] = [\"Turkey\", 34]\n",
    "print(dict.items())\n",
    "\n",
    "dict.pop(\"Antonio\")\n",
    "print(dict.items())"
   ]
  },
  {
   "cell_type": "raw",
   "id": "c55c7be4-6bc3-496d-8429-50b9a78e225a",
   "metadata": {},
   "source": [
    "Argüman olarak bir liste alan, listenin içerisindeki tek ve çift sayıları ayrı listelere atayan ve bu listeleri\n",
    "return eden fonksiyon yazınız."
   ]
  },
  {
   "cell_type": "code",
   "execution_count": 6,
   "id": "0a0fc979-d02e-4bd8-9145-9afc80ca1071",
   "metadata": {},
   "outputs": [
    {
     "name": "stdout",
     "output_type": "stream",
     "text": [
      "[13, 93]\n",
      "[2, 18, 22]\n"
     ]
    }
   ],
   "source": [
    "l = [2, 13, 18, 93, 22]\n",
    "\n",
    "def odd_and_even(list):\n",
    "    odd_list, even_list = [],[]\n",
    "    for number in list:\n",
    "        if number % 2 == 0:\n",
    "            even_list.append(number)\n",
    "\n",
    "        else:\n",
    "            odd_list.append(number)\n",
    "\n",
    "    return odd_list, even_list\n",
    "\n",
    "new_odd_list, new_even_list = odd_and_even(l)\n",
    "\n",
    "print(new_odd_list)\n",
    "\n",
    "print(new_even_list)"
   ]
  },
  {
   "cell_type": "raw",
   "id": "a7ddbcea-8595-4dd9-a1f5-e9ce91c06606",
   "metadata": {},
   "source": [
    "Aşağıda verilen listede mühendislik ve tıp fakülterinde dereceye giren öğrencilerin isimleri\n",
    "bulunmaktadır. Sırasıyla ilk üç öğrenci mühendislik fakültesinin başarı sırasını temsil ederken son üç öğrenci de \n",
    "tıp fakültesi öğrenci sırasına aittir. Enumarate kullanarak öğrenci derecelerini fakülte özelinde yazdırınız."
   ]
  },
  {
   "cell_type": "code",
   "execution_count": 7,
   "id": "cbbd7914-c073-49b9-b9bb-23291264c192",
   "metadata": {},
   "outputs": [
    {
     "name": "stdout",
     "output_type": "stream",
     "text": [
      "Muhendislik fakultesi 1. ogrenci: Ali\n",
      "Muhendislik fakultesi 2. ogrenci: Ayse\n",
      "Muhendislik fakultesi 3. ogrenci: Veli\n",
      "Tıp fakultesi 1. ogrenci: Talat\n",
      "Tıp fakultesi 2. ogrenci: Zeynep\n",
      "Tıp fakultesi 3. ogrenci: Ece\n"
     ]
    }
   ],
   "source": [
    "ogrenciler = [\"Ali\", \"Ayse\", \"Veli\", \"Talat\", \"Zeynep\", \"Ece\"]\n",
    "\n",
    "def muhendis_ve_tıp(ogrenciler_listesi):\n",
    "    for index,ogrenci in enumerate(ogrenciler_listesi, 1):\n",
    "        if index < 4:\n",
    "            print(\"Muhendislik fakultesi \" + str(index) + \". ogrenci: \" + ogrenci)\n",
    "\n",
    "        else:\n",
    "            print(\"Tıp fakultesi \" + str(index - 3) + \". ogrenci: \" + ogrenci)\n",
    "\n",
    "muhendis_ve_tıp(ogrenciler)"
   ]
  },
  {
   "cell_type": "raw",
   "id": "77ae9e9c-7e16-463a-866c-2f464b6a8d14",
   "metadata": {},
   "source": [
    "Aşağıda 3 adet liste verilmiştir. Listelerde sırası ile bir dersin kodu, kredisi ve kontenjan bilgileri yer\n",
    "almaktadır. Zip kullanarak ders bilgilerini bastırınız."
   ]
  },
  {
   "cell_type": "code",
   "execution_count": 8,
   "id": "3e43a373-2023-4035-8e97-1f317afc294f",
   "metadata": {},
   "outputs": [
    {
     "name": "stdout",
     "output_type": "stream",
     "text": [
      "[('CMP1005', 3, 30), ('PSY1001', 4, 75), ('HUK1005', 2, 150), ('SEN2204', 4, 25)]\n",
      "kredisi 3 olan CMP1005 dersinin kontenjanı 30 dir.\n",
      "kredisi 4 olan PSY1001 dersinin kontenjanı 75 dir.\n",
      "kredisi 2 olan HUK1005 dersinin kontenjanı 150 dir.\n",
      "kredisi 4 olan SEN2204 dersinin kontenjanı 25 dir.\n"
     ]
    }
   ],
   "source": [
    "ders_kodu = [\"CMP1005\", \"PSY1001\", \"HUK1005\", \"SEN2204\"]\n",
    "kredi = [3, 4, 2, 4]\n",
    "kontenjan = [30, 75, 150, 25]\n",
    "\n",
    "ders_bilgileri = list(zip(ders_kodu, kredi, kontenjan))\n",
    "print(ders_bilgileri)\n",
    "\n",
    "print(\"kredisi\", ders_bilgileri[0][1] , \"olan\" , ders_bilgileri[0][0] , \"dersinin kontenjanı\", ders_bilgileri[0][2], \"dir.\")\n",
    "print(\"kredisi\", ders_bilgileri[1][1] , \"olan\" , ders_bilgileri[1][0] , \"dersinin kontenjanı\", ders_bilgileri[1][2], \"dir.\")\n",
    "print(\"kredisi\", ders_bilgileri[2][1] , \"olan\" , ders_bilgileri[2][0] , \"dersinin kontenjanı\", ders_bilgileri[2][2], \"dir.\")\n",
    "print(\"kredisi\", ders_bilgileri[3][1] , \"olan\" , ders_bilgileri[3][0] , \"dersinin kontenjanı\", ders_bilgileri[3][2], \"dir.\")"
   ]
  },
  {
   "cell_type": "raw",
   "id": "bf84003b-c7bb-4647-a9a1-6b73deff1e01",
   "metadata": {},
   "source": [
    "Aşağıda 2 adet set verilmiştir. Sizden istenilen eğer 1. küme 2. kümeyi kapsiyor ise ortak elemanlarını\n",
    "eğer kapsamıyor ise 2. kümenin 1. kümeden farkını yazdıracak fonksiyonu tanımlamanız beklenmektedir."
   ]
  },
  {
   "cell_type": "code",
   "execution_count": 9,
   "id": "36d1fb5a-79a5-4c58-80d9-a6a383069081",
   "metadata": {},
   "outputs": [
    {
     "name": "stdout",
     "output_type": "stream",
     "text": [
      "{'lambda', 'miuul', 'qcut', 'function'}\n",
      "asfsdg\n"
     ]
    }
   ],
   "source": [
    "kume1 = {\"data\", \"python\"}\n",
    "kume2 = set([\"data\", \"function\", \"qcut\", \"lambda\", \"python\", \"miuul\"])\n",
    "    \n",
    "def is_set_super_set(kume1, kume2):\n",
    "    if kume1.issuperset(kume2):\n",
    "        print(kume1.intersection(kume2))\n",
    "        print(\"sdgdsg\")\n",
    "    else:\n",
    "        print(kume2.difference(kume1))\n",
    "        print(\"asfsdg\")\n",
    "\n",
    "is_set_super_set(kume1, kume2)"
   ]
  },
  {
   "cell_type": "markdown",
   "id": "4134f20f-0efa-465e-92f3-89ebef51b100",
   "metadata": {},
   "source": [
    "## List Comprehension Alıştırmaları"
   ]
  },
  {
   "cell_type": "code",
   "execution_count": 11,
   "id": "20a74cae-5d47-42a1-88f6-043b411b36e8",
   "metadata": {},
   "outputs": [
    {
     "data": {
      "text/html": [
       "<div>\n",
       "<style scoped>\n",
       "    .dataframe tbody tr th:only-of-type {\n",
       "        vertical-align: middle;\n",
       "    }\n",
       "\n",
       "    .dataframe tbody tr th {\n",
       "        vertical-align: top;\n",
       "    }\n",
       "\n",
       "    .dataframe thead th {\n",
       "        text-align: right;\n",
       "    }\n",
       "</style>\n",
       "<table border=\"1\" class=\"dataframe\">\n",
       "  <thead>\n",
       "    <tr style=\"text-align: right;\">\n",
       "      <th></th>\n",
       "      <th>total</th>\n",
       "      <th>speeding</th>\n",
       "      <th>alcohol</th>\n",
       "      <th>not_distracted</th>\n",
       "      <th>no_previous</th>\n",
       "      <th>ins_premium</th>\n",
       "      <th>ins_losses</th>\n",
       "      <th>abbrev</th>\n",
       "    </tr>\n",
       "  </thead>\n",
       "  <tbody>\n",
       "    <tr>\n",
       "      <th>0</th>\n",
       "      <td>18.8</td>\n",
       "      <td>7.332</td>\n",
       "      <td>5.640</td>\n",
       "      <td>18.048</td>\n",
       "      <td>15.040</td>\n",
       "      <td>784.55</td>\n",
       "      <td>145.08</td>\n",
       "      <td>AL</td>\n",
       "    </tr>\n",
       "    <tr>\n",
       "      <th>1</th>\n",
       "      <td>18.1</td>\n",
       "      <td>7.421</td>\n",
       "      <td>4.525</td>\n",
       "      <td>16.290</td>\n",
       "      <td>17.014</td>\n",
       "      <td>1053.48</td>\n",
       "      <td>133.93</td>\n",
       "      <td>AK</td>\n",
       "    </tr>\n",
       "    <tr>\n",
       "      <th>2</th>\n",
       "      <td>18.6</td>\n",
       "      <td>6.510</td>\n",
       "      <td>5.208</td>\n",
       "      <td>15.624</td>\n",
       "      <td>17.856</td>\n",
       "      <td>899.47</td>\n",
       "      <td>110.35</td>\n",
       "      <td>AZ</td>\n",
       "    </tr>\n",
       "    <tr>\n",
       "      <th>3</th>\n",
       "      <td>22.4</td>\n",
       "      <td>4.032</td>\n",
       "      <td>5.824</td>\n",
       "      <td>21.056</td>\n",
       "      <td>21.280</td>\n",
       "      <td>827.34</td>\n",
       "      <td>142.39</td>\n",
       "      <td>AR</td>\n",
       "    </tr>\n",
       "    <tr>\n",
       "      <th>4</th>\n",
       "      <td>12.0</td>\n",
       "      <td>4.200</td>\n",
       "      <td>3.360</td>\n",
       "      <td>10.920</td>\n",
       "      <td>10.680</td>\n",
       "      <td>878.41</td>\n",
       "      <td>165.63</td>\n",
       "      <td>CA</td>\n",
       "    </tr>\n",
       "  </tbody>\n",
       "</table>\n",
       "</div>"
      ],
      "text/plain": [
       "   total  speeding  alcohol  not_distracted  no_previous  ins_premium  \\\n",
       "0   18.8     7.332    5.640          18.048       15.040       784.55   \n",
       "1   18.1     7.421    4.525          16.290       17.014      1053.48   \n",
       "2   18.6     6.510    5.208          15.624       17.856       899.47   \n",
       "3   22.4     4.032    5.824          21.056       21.280       827.34   \n",
       "4   12.0     4.200    3.360          10.920       10.680       878.41   \n",
       "\n",
       "   ins_losses abbrev  \n",
       "0      145.08     AL  \n",
       "1      133.93     AK  \n",
       "2      110.35     AZ  \n",
       "3      142.39     AR  \n",
       "4      165.63     CA  "
      ]
     },
     "execution_count": 11,
     "metadata": {},
     "output_type": "execute_result"
    }
   ],
   "source": [
    "import seaborn as sns\n",
    "df = sns.load_dataset(\"car_crashes\")\n",
    "df.head()"
   ]
  },
  {
   "cell_type": "code",
   "execution_count": 12,
   "id": "bdb6fe0a-437d-4759-a064-9249e9b80499",
   "metadata": {},
   "outputs": [
    {
     "data": {
      "text/plain": [
       "Index(['total', 'speeding', 'alcohol', 'not_distracted', 'no_previous',\n",
       "       'ins_premium', 'ins_losses', 'abbrev'],\n",
       "      dtype='object')"
      ]
     },
     "execution_count": 12,
     "metadata": {},
     "output_type": "execute_result"
    }
   ],
   "source": [
    "df.columns"
   ]
  },
  {
   "cell_type": "raw",
   "id": "5115284d-b5c7-4041-87d5-4a25723d8936",
   "metadata": {},
   "source": [
    "List Comprehension yapısı kullanarak car_crashes verisindeki numeric değişkenlerin isimlerini büyük\n",
    "harfe çeviriniz ve başına NUM ekleyiniz."
   ]
  },
  {
   "cell_type": "code",
   "execution_count": 13,
   "id": "79057cbc-80be-457c-98f9-f48669b142f0",
   "metadata": {},
   "outputs": [
    {
     "name": "stdout",
     "output_type": "stream",
     "text": [
      "['NUM_TOTAL', 'NUM_SPEEDING', 'NUM_ALCOHOL', 'NUM_NOT_DISTRACTED', 'NUM_NO_PREVIOUS', 'NUM_INS_PREMIUM', 'NUM_INS_LOSSES']\n"
     ]
    }
   ],
   "source": [
    "new_columns = [\"NUM_\" + col.upper() for col in df.columns if df[col].dtype != \"O\"]\n",
    "print(new_columns)"
   ]
  },
  {
   "cell_type": "raw",
   "id": "bbab32f0-a88d-4c10-85e7-c5c30a41e72e",
   "metadata": {},
   "source": [
    "List Comprehension yapısı kullanarak car_crashes verisinde isminde \"no\" barındırmayan\n",
    "değişkenlerin isimlerinin sonuna \"FLAG\" yazınız."
   ]
  },
  {
   "cell_type": "code",
   "execution_count": 14,
   "id": "103338dd-4e68-4876-8a70-a49fd467e9d6",
   "metadata": {},
   "outputs": [
    {
     "name": "stdout",
     "output_type": "stream",
     "text": [
      "['total_FLAG', 'speeding_FLAG', 'alcohol_FLAG', 'not_distracted', 'no_previous', 'ins_premium_FLAG', 'ins_losses_FLAG', 'abbrev_FLAG']\n"
     ]
    }
   ],
   "source": [
    "flag_columns = [col + \"_FLAG\" if \"no\" not in col else col for col in df.columns]\n",
    "print(flag_columns)"
   ]
  },
  {
   "cell_type": "raw",
   "id": "7c9c957f-fb3b-47fc-af7b-fe4d4d094490",
   "metadata": {},
   "source": [
    "List Comprehension yapısı kullanarak aşağıda verilen değişken isimlerinden FARKLI olan\n",
    "değişkenlerin isimlerini seçiniz ve yeni bir dataframe oluşturunuz."
   ]
  },
  {
   "cell_type": "code",
   "execution_count": 15,
   "id": "5cc39ac6-13fe-499c-a73a-0c35e8c49767",
   "metadata": {},
   "outputs": [
    {
     "name": "stdout",
     "output_type": "stream",
     "text": [
      "['total', 'speeding', 'alcohol', 'not_distracted', 'ins_premium', 'ins_losses']\n"
     ]
    },
    {
     "data": {
      "text/html": [
       "<div>\n",
       "<style scoped>\n",
       "    .dataframe tbody tr th:only-of-type {\n",
       "        vertical-align: middle;\n",
       "    }\n",
       "\n",
       "    .dataframe tbody tr th {\n",
       "        vertical-align: top;\n",
       "    }\n",
       "\n",
       "    .dataframe thead th {\n",
       "        text-align: right;\n",
       "    }\n",
       "</style>\n",
       "<table border=\"1\" class=\"dataframe\">\n",
       "  <thead>\n",
       "    <tr style=\"text-align: right;\">\n",
       "      <th></th>\n",
       "      <th>total</th>\n",
       "      <th>speeding</th>\n",
       "      <th>alcohol</th>\n",
       "      <th>not_distracted</th>\n",
       "      <th>ins_premium</th>\n",
       "      <th>ins_losses</th>\n",
       "    </tr>\n",
       "  </thead>\n",
       "  <tbody>\n",
       "    <tr>\n",
       "      <th>0</th>\n",
       "      <td>18.8</td>\n",
       "      <td>7.332</td>\n",
       "      <td>5.640</td>\n",
       "      <td>18.048</td>\n",
       "      <td>784.55</td>\n",
       "      <td>145.08</td>\n",
       "    </tr>\n",
       "    <tr>\n",
       "      <th>1</th>\n",
       "      <td>18.1</td>\n",
       "      <td>7.421</td>\n",
       "      <td>4.525</td>\n",
       "      <td>16.290</td>\n",
       "      <td>1053.48</td>\n",
       "      <td>133.93</td>\n",
       "    </tr>\n",
       "    <tr>\n",
       "      <th>2</th>\n",
       "      <td>18.6</td>\n",
       "      <td>6.510</td>\n",
       "      <td>5.208</td>\n",
       "      <td>15.624</td>\n",
       "      <td>899.47</td>\n",
       "      <td>110.35</td>\n",
       "    </tr>\n",
       "    <tr>\n",
       "      <th>3</th>\n",
       "      <td>22.4</td>\n",
       "      <td>4.032</td>\n",
       "      <td>5.824</td>\n",
       "      <td>21.056</td>\n",
       "      <td>827.34</td>\n",
       "      <td>142.39</td>\n",
       "    </tr>\n",
       "    <tr>\n",
       "      <th>4</th>\n",
       "      <td>12.0</td>\n",
       "      <td>4.200</td>\n",
       "      <td>3.360</td>\n",
       "      <td>10.920</td>\n",
       "      <td>878.41</td>\n",
       "      <td>165.63</td>\n",
       "    </tr>\n",
       "  </tbody>\n",
       "</table>\n",
       "</div>"
      ],
      "text/plain": [
       "   total  speeding  alcohol  not_distracted  ins_premium  ins_losses\n",
       "0   18.8     7.332    5.640          18.048       784.55      145.08\n",
       "1   18.1     7.421    4.525          16.290      1053.48      133.93\n",
       "2   18.6     6.510    5.208          15.624       899.47      110.35\n",
       "3   22.4     4.032    5.824          21.056       827.34      142.39\n",
       "4   12.0     4.200    3.360          10.920       878.41      165.63"
      ]
     },
     "execution_count": 15,
     "metadata": {},
     "output_type": "execute_result"
    }
   ],
   "source": [
    "og_list = [\"abbrev\", \"no_previous\"]\n",
    "\n",
    "new_cols = [col for col in df.columns if col not in og_list]\n",
    "print(new_cols)\n",
    "\n",
    "new_df = df[new_cols]\n",
    "new_df.head()"
   ]
  }
 ],
 "metadata": {
  "kernelspec": {
   "display_name": "Python 3 (ipykernel)",
   "language": "python",
   "name": "python3"
  },
  "language_info": {
   "codemirror_mode": {
    "name": "ipython",
    "version": 3
   },
   "file_extension": ".py",
   "mimetype": "text/x-python",
   "name": "python",
   "nbconvert_exporter": "python",
   "pygments_lexer": "ipython3",
   "version": "3.12.4"
  }
 },
 "nbformat": 4,
 "nbformat_minor": 5
}
